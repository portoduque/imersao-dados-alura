{
  "nbformat": 4,
  "nbformat_minor": 0,
  "metadata": {
    "colab": {
      "name": "aula2_imersao_dados_alura.ipynb",
      "private_outputs": true,
      "provenance": [],
      "collapsed_sections": [
        "D0nnndnJ6Ynw",
        "87yE0HvTNY6u",
        "_ELF0BeF75UA",
        "LOpnCGeADoPM",
        "UtuOBnBIHsiG",
        "YJVhD-WlKcuH"
      ]
    },
    "kernelspec": {
      "name": "python3",
      "display_name": "Python 3"
    },
    "language_info": {
      "name": "python"
    }
  },
  "cells": [
    {
      "cell_type": "markdown",
      "metadata": {
        "id": "D0nnndnJ6Ynw"
      },
      "source": [
        "# Preparando Dados\n",
        "Nessa imersão nós vamos mergulhar no universo da biologia e da biotecnologia e explorar uma base de dados da área.\n",
        "\n",
        "Para a nossa análise, está faltando então os dados. Para conseguirmos esses dados vamos acessar o Github, nesse link:\n",
        "\n",
        "https://github.com/alura-cursos/imersaodados3/tree/main/dados\n",
        "\n",
        "Então, agora vamos importar essa base de dados para dentro do nosso notebook. Para juntar essas informações vamos utilizar nossa famosa biblioteca do \"Pandas\".\n",
        "Vamos importar essa biblioteca através do seguinte código:"
      ]
    },
    {
      "cell_type": "code",
      "metadata": {
        "id": "tap3brCKoTbv"
      },
      "source": [
        "import pandas as pd\n",
        "\n",
        "url_dados = \"https://github.com/alura-cursos/imersaodados3/blob/main/dados/dados_experimentos.zip?raw=true\"\n",
        "dados = pd.read_csv(url_dados, compression= \"zip\")\n",
        "\n",
        "dados"
      ],
      "execution_count": null,
      "outputs": []
    },
    {
      "cell_type": "code",
      "metadata": {
        "id": "5ME4Be0gpel0"
      },
      "source": [
        "mapa = {\"droga\": \"composto\"}\n",
        "dados.rename(columns=mapa, inplace= True)"
      ],
      "execution_count": null,
      "outputs": []
    },
    {
      "cell_type": "markdown",
      "metadata": {
        "id": "87yE0HvTNY6u"
      },
      "source": [
        "#Aula 02"
      ]
    },
    {
      "cell_type": "markdown",
      "metadata": {
        "id": "xFXfW7vFvfK-"
      },
      "source": [
        "Olá!\n",
        "\n",
        "Seja bem vindo e bem vinda a aula 02!\n",
        "\n",
        "Na aula 01, nós começamos a explorar um conjunto de dados relacionados à industria farmacêutica. Para isso nós utilizamos uma biblioteca muito conhecida no mundo de DataScience: o Pandas.\n",
        "\n",
        "Nós utilizamos o Pandas para abrir o dataset, que estava no formato CSV, e para gerar um dataframe, uma tabela, para então começarmos a analisar e entender o que significava cada coluna. Com a ajuda da Vanessa, especialista na área, identificamos que temos colunas que nos remetem a dados que estão sob tratamento(droga) e com controle. Além disso, temos também diversas colunas que remetem aos genes.\n",
        "\n",
        "Começamos nossa análise olhando para cada coluna de forma separada e também geramos gráficos, para auxiliar nossa análise.\n",
        "\n",
        "E você? Como se saiu na resolução dos desafios?\n",
        "\n",
        "Agora, vamos mergulhar juntos na aula 02!"
      ]
    },
    {
      "cell_type": "code",
      "metadata": {
        "id": "hB3O-zZW9ZYw"
      },
      "source": [
        "dados"
      ],
      "execution_count": null,
      "outputs": []
    },
    {
      "cell_type": "markdown",
      "metadata": {
        "id": "zGB4Kq8JvmZ5"
      },
      "source": [
        "A base de dados que usamos até o momento tem uma variável chamada ```composto```mas entendemos, com a ajuda da Vanessa, que essa não é a melhor nomenclatura para representa-la. \n",
        "Por isso, vamos usar a função ```map``` da biblioteca Pandas para renomear essa coluna.\n",
        "É importante destacar que passamos o parâmetro ```inplace = True```, esse parâmetro faz com que os dados sejam modificados no local e o dataframe será atualizado. \n",
        "Caso esse parâmetro não seja declarado, o default é ```inplace = False``` e o retorno será uma cópia do objeto e caso você queira, precisa salva-lo com um outro nome."
      ]
    },
    {
      "cell_type": "code",
      "metadata": {
        "id": "CFse2h0Vcrp4"
      },
      "source": [
        "mapa = {'droga': 'composto'}\n",
        "dados.rename(columns=mapa, inplace=True)"
      ],
      "execution_count": null,
      "outputs": []
    },
    {
      "cell_type": "markdown",
      "metadata": {
        "id": "lq5EDpC4w_rS"
      },
      "source": [
        "Aqui, estamos usando a função ```head``` para apresentar as 5 primeiras linhas da base de dados e assim, podemos conferir se a renomeação aconteceu da maneira que estavámos esperando."
      ]
    },
    {
      "cell_type": "code",
      "metadata": {
        "id": "VX73K_tLcoQg"
      },
      "source": [
        "dados.head()"
      ],
      "execution_count": null,
      "outputs": []
    },
    {
      "cell_type": "markdown",
      "metadata": {
        "id": "i7mgnrykiMNb"
      },
      "source": [
        "Queremos melhorar a visualização do nosso histograma de compostos e, como existem mais de 3.000 variações na nossa base de dados, decidimos elencar os 5 compostos que mais aparecem.\n",
        "Para isso, vamos usar a função ```value_counts``` (função presente na biblioteca Pandas e que conta a ocorrência dos diferentes valores) e, como queremos saber somente os 5 elementos mais frequentes, também declaramos o ```index[0:5]```. Essa parte final, faz com que o ```value_counts```se atenha à contagem dos maiores valores e apresente como resultado apenas o index do  intervalo [0, 5[, ou seja, o nome dos 5 maiores valores. "
      ]
    },
    {
      "cell_type": "code",
      "metadata": {
        "id": "D5hK5mcVej_G"
      },
      "source": [
        "cod_compostos = dados['composto'].value_counts().index[0:5]"
      ],
      "execution_count": null,
      "outputs": []
    },
    {
      "cell_type": "markdown",
      "metadata": {
        "id": "hrOGPnbP4cE_"
      },
      "source": [
        "Na célula acima, declaramos a variável ```cod_compostos``` e definimos a função que está atrelada à ela. \n",
        "E agora, executamos a nossa nova variável para verificar o resultado."
      ]
    },
    {
      "cell_type": "code",
      "metadata": {
        "id": "LgrRw3eSfLYu"
      },
      "source": [
        "cod_compostos"
      ],
      "execution_count": null,
      "outputs": []
    },
    {
      "cell_type": "markdown",
      "metadata": {
        "id": "1JANbNGx4wQO"
      },
      "source": [
        "Exitem algumas maneiras de filtrar uma base de dados e optamos em usar a função ```query``` do Pandas e, somente a título de curiosidade, essa função é bastante análoga ao SQL (linguagem de programação para bancos de dados).\n",
        "A estrutura dela é bastante simplificada, precisamos apenas definir o dataframe, chamar a função e passar como parâmetro a condição que deve ser \n",
        "filtrada no nosso conjunto de dados.\n",
        "\n",
        "Nesta parte do projeto, queremos realizar um filtro em nossos dados, selecionando apenas as linhas nas quais o composto esteja dentro da nossa lista ```cod_composto``` (lista que representa os 5 compostos mais testados no experimento) e vamos utilizar o método ```query``` para resolver este problema. \n",
        "\n",
        "Como parâmetro da função, passamos uma string contendo a lógica para realização da seleção dos dados. O que queremos é o seguinte: o ```query```precisa retornar para nós todas as linhas contendo os 5 compostos mais utilizados. Logo, a string necessária para isso é: ```composto in @cod_compostos```. \n",
        "\n",
        "Usamos ```composto``` porque essa é a coluna a ser verificada no dataframe e ```cod_compostos``` por ser a lista com os top 5 compostos, o detalhe aqui é que o ```@``` é necessário para informar o ```query``` que ```cod_composto``` é uma variável que já foi definida fora da função."
      ]
    },
    {
      "cell_type": "code",
      "metadata": {
        "id": "_GlSwTMGfpFs"
      },
      "source": [
        "dados.query('composto in @cod_compostos')"
      ],
      "execution_count": null,
      "outputs": []
    },
    {
      "cell_type": "markdown",
      "metadata": {
        "id": "p9FQo1EuFF8M"
      },
      "source": [
        "Agora que vimos que a nossa filtragem funcionou e que temos como retorno uma base de dados com 3.235 linhas, podemos usar a função ```query```como parâmetro para o ```countplot```, o nosso gráfico de barras.\n",
        "O ```countplot``` é um gráfico pré-programado da biblioteca ```Seaborn```e, por isso, precisaremos fazer a importação padrão da mesma (```import seaborn as sns```). Adicionalmente, aqui no Google Colaboratory, para que possamos enxergar o gráfico com os padrões de configuração da biblioteca, precisamos rodar ```sns.set()```.\n",
        "Além disso, para refinar a apresentação do gráfico, podemos utilizar algumas funcionalidades da biblioteca ```Matplotlib``` (fazendo, primeiramente, sua importação - ```import matplotlib.pyplt as plt```).\n",
        "Também estamos definindo o tamanho do gráfico através da função ```figure``` e seu parâmetro ```figsize=(x, y))``` e o título através do ```set_title('Título')```.\n",
        "Como comentado na aula, usualmente, armazenamos o nosso gráfico em uma variável ```ax``` e então, definimos as demais configurações (por exemplo, ```ax.set_title('Título')```.\n",
        "E, finalmente, para visualizar o gráfico de barras, usamos o ```plt.show()```."
      ]
    },
    {
      "cell_type": "code",
      "metadata": {
        "id": "IePUr98kdgED"
      },
      "source": [
        "import seaborn as sns\n",
        "import matplotlib.pyplot as plt\n",
        "sns.set()\n",
        "plt.figure(figsize=(8, 6))\n",
        "ax = sns.countplot(x = 'composto', data=dados.query('composto in @cod_compostos'))\n",
        "ax.set_title('Top 5 compostos')\n",
        "plt.show()"
      ],
      "execution_count": null,
      "outputs": []
    },
    {
      "cell_type": "markdown",
      "metadata": {
        "id": "bA_RUClHM6I8"
      },
      "source": [
        "Até o momento analisamos os dados de tempo, dose, compostos e afins. Entretanto, não analisamos os dados de expressões gênicas (G's) e viabilidade celular (C's). Será que podemos criar um gráfico de barras para esses dados?\n",
        "Vamos pensar que a nossa base de dados apresenta mais de 3.000 compostos. Mas quantos desses compostos aparecem na coluna ```g-0```? \n",
        "Para responder essa questão, vamos usar a função ```unique()``` do Pandas que conta os valores únicos presentes na coluna em questão. Como resposta padrão, o retorno será uma lista com arrays (os nomes dos compostos) mas, nosso objetivo é saber o tamanho dessa lista e, por isso, usamos o ```len```, pois assim, ele contará o tamanho desta lista de arrays."
      ]
    },
    {
      "cell_type": "code",
      "metadata": {
        "id": "DkQ2wH9Gj-w7"
      },
      "source": [
        "len(dados['g-0'].unique())"
      ],
      "execution_count": null,
      "outputs": []
    },
    {
      "cell_type": "markdown",
      "metadata": {
        "id": "wM4yn28tRflX"
      },
      "source": [
        "Como temos diversos compostos únicos dentro da coluna ```g-0```, não é viável que façamos o mesmo gráfico utilizado anteriormente. \n",
        "Por isso, precisamos traçar uma nova estratégia para visualizar os nossos dadose aqui, usaremos um histograma.\n",
        "O primeiro passo, é identificar qual o valor mínimo (```min()```) e o valor máximo (```max()```) para entender qual o intervalo númerico com o qual estamos trabalhando."
      ]
    },
    {
      "cell_type": "code",
      "metadata": {
        "id": "mCC5DpK1kmiX"
      },
      "source": [
        "dados['g-0'].min()"
      ],
      "execution_count": null,
      "outputs": []
    },
    {
      "cell_type": "code",
      "metadata": {
        "id": "qzH4Jl0OksuL"
      },
      "source": [
        "dados['g-0'].max()"
      ],
      "execution_count": null,
      "outputs": []
    },
    {
      "cell_type": "markdown",
      "metadata": {
        "id": "-Tp7M_wWUCU8"
      },
      "source": [
        "Depois que reconhecemos que o nosso intervalo vai de ~5,5 a 10,0, podemos partir para o histograma e a função que usaremos para plotar é do Pandas (```dataframe['variável'].hist()```).\n",
        "Assim que rodamos essa função, percebemos que a visualização destes dados ainda não está boa pois, a divisão padrão das barras do histograma, representam intervalos muito grandes que atrapalham o entendimento dos dados.\n",
        "Por isso, acresentamos um parâmetro dentro da função ```(bins = número de quebras)``` para melhor dividir e, consequentemente visualizar os dados.\n",
        "Quando definimos os bins em 100, podemos perceber que a forma se aproxima bastante de uma curva bastante conhecida: a curva normal."
      ]
    },
    {
      "cell_type": "code",
      "metadata": {
        "id": "RnjRPpubk1z0"
      },
      "source": [
        "dados['g-0'].hist(bins = 100)"
      ],
      "execution_count": null,
      "outputs": []
    },
    {
      "cell_type": "markdown",
      "metadata": {
        "id": "ILTZmvd2fczV"
      },
      "source": [
        "Aqui, estamos testando o mesmo histograma para outro gene, o ```g-19```. E queremos fazer uma comparação entre os gráficos e podemos fazer algumas considerações sobre ambos os gráficos.\n",
        "Percebemos, por exemplo, que a imagem seguem a mesma tendência de curva mas há um deslocamento para a direita."
      ]
    },
    {
      "cell_type": "code",
      "metadata": {
        "id": "1_aedkvToYlB"
      },
      "source": [
        "dados['g-19'].hist(bins = 100)"
      ],
      "execution_count": null,
      "outputs": []
    },
    {
      "cell_type": "markdown",
      "metadata": {
        "id": "i8HZHcicEJ0F"
      },
      "source": [
        "Como concluimos que plotar os gráficos de todos os genes é inviável, vamos analisar resumidamente algumas estatísticas sobre eles. \n",
        "Para isso, vamos usar a função ```describe``` do Pandas que já calcula e descreve algumas estatísticas importantes para o entendimento dos dados (contagem, média, desvio padrão, mínimo, alguns quartis e máximo).\n"
      ]
    },
    {
      "cell_type": "code",
      "metadata": {
        "id": "Kv-2zPLBprgD"
      },
      "source": [
        "dados.describe()"
      ],
      "execution_count": null,
      "outputs": []
    },
    {
      "cell_type": "markdown",
      "metadata": {
        "id": "G4mCKUkUFYhb"
      },
      "source": [
        "Neste ponto, vamos separar as variáveis que queremos analisar da base de dados (exemplo: ```g-0``` e ```g-1```) através de uma lista de arrays.\n",
        "Entretanto, apesar desta ser uma ótima estratégia para a separação, temos 771 genes e escrevê-los um a um seria muito trabalhoso e podemos fazer de uma outra forma."
      ]
    },
    {
      "cell_type": "code",
      "metadata": {
        "id": "OAkjbZdkqPlR"
      },
      "source": [
        "dados[['g-0', 'g-1']]"
      ],
      "execution_count": null,
      "outputs": []
    },
    {
      "cell_type": "markdown",
      "metadata": {
        "id": "0LHi_9AUGFmS"
      },
      "source": [
        "Uma estratégia mais direta em que não precisaremos escrever a lista gene a gene, é o uso da função ```loc[]``` do Pandas.\n",
        "Como argumentos, passamos primeiramente o ```:```, os dois pontos faz com que o ```loc[]```retorne todos os elementos de uma determinada coluna, isso é importante quando não sabemos qual a quantidade de linhas de um dataframe. E, o segundo elemento, passamos as colunas que são de nosso interesse. No caso, queremos que a função nos retorne todos os elementos das colunas ```g-0```até ```g-771```.\n",
        "E, por fim, podemos declarar a nossa função de interesse a partir deste filtro realizado nos dados, o ```describe()```."
      ]
    },
    {
      "cell_type": "code",
      "metadata": {
        "id": "dQX0KOhUqm66"
      },
      "source": [
        "dados.loc[:,'g-0':'g-771'].describe()"
      ],
      "execution_count": null,
      "outputs": []
    },
    {
      "cell_type": "markdown",
      "metadata": {
        "id": "8mp610qzHQGY"
      },
      "source": [
        "Apesar do describe reunir as nossas estatísticas de interesse, é bastante complexo analisar o dataframe resposta. Para facilitar o nosso entendimento, vamos plotar histogramas que nos ajudaram na visualização das estatísticas de todas as colunas selecionadas.\n",
        "Olhando o dataframe original, anteriormente, fizemos o histograma de apenas uma coluna. Mas agora, nosso conjunto de dados de interesse é o ```describe()``` que fizemos a partir do ```loc[]``` e, deste ponto de vista, não queremos mais fazer o histograma coluna a coluna (genes), queremos que ele seja a partir das linhas (estatísticas). Por isso, vamos transpor as linhas e colunas (transformar as linhas em colunas e vice-versa).\n",
        "Para isso, vamos usar o ```.T[]``` no código anterior que produzimos para organizar o ```describe()```.\n",
        "Ou seja, vamos manter todo o código até o ```describe()``` e, ao final, acrescentaremos o ```.T[]```. Mas, ao rodarmos essa linha, percebemos que temos como devolutiva o mesmo dataframe mas transposto. E, como aqui, nosso interesse é produzir histogramas, acrescentamos como argumento do ```.T[]``` a estatística alvo (```.T['estatística']```) e, por último, acrescentamos o ```.hist(bins = número de quebras)``` para que o histograma seja observado.\n",
        "\n"
      ]
    },
    {
      "cell_type": "code",
      "metadata": {
        "id": "ij9QVxGArZsd"
      },
      "source": [
        "dados.loc[:,\"g-0\":\"g-771\"].describe().T[\"mean\"].hist(bins=30)"
      ],
      "execution_count": null,
      "outputs": []
    },
    {
      "cell_type": "markdown",
      "metadata": {
        "id": "qbINMiTKKNqK"
      },
      "source": [
        "A seguir, reproduzimos o código acima apenas alterando o parâmetro estatístico a ser analisado (mínimo e máximo, por exemplo). \n",
        "E assim, podemos perceber as nuances de cada métrica."
      ]
    },
    {
      "cell_type": "code",
      "metadata": {
        "id": "u31uRxYWr2PG"
      },
      "source": [
        "dados.loc[:,\"g-0\":\"g-771\"].describe().T[\"min\"].hist(bins=30)"
      ],
      "execution_count": null,
      "outputs": []
    },
    {
      "cell_type": "code",
      "metadata": {
        "id": "bYnsG81Sr8mc"
      },
      "source": [
        "dados.loc[:,\"g-0\":\"g-771\"].describe().T[\"max\"].hist(bins=30)"
      ],
      "execution_count": null,
      "outputs": []
    },
    {
      "cell_type": "markdown",
      "metadata": {
        "id": "g8FvuJapKhco"
      },
      "source": [
        "É muito interessante que a gente replique a análise desenvolvida para os ```genes (g)```, nos ```tipos celulares (c)```. \n",
        "Por isso, vamos copiar a linha de código que produz os histogramas mas aqui, vamos modificar o argumento ```loc[:,'g-0':'g-771'] -> loc[:,'c-0':'c-99']``` e a quantidade de bins ```hist(bins=100) -> hist(bins=50)```."
      ]
    },
    {
      "cell_type": "code",
      "metadata": {
        "id": "hu2jZ2snuJ09"
      },
      "source": [
        "dados.loc[:,\"c-0\":\"c-99\"].describe().T[\"mean\"].hist(bins=50)"
      ],
      "execution_count": null,
      "outputs": []
    },
    {
      "cell_type": "markdown",
      "metadata": {
        "id": "kUCr17j6xpu5"
      },
      "source": [
        "Um outro tipo de gráfico super interessante e útil é o boxplot. \n",
        "Para visualizá-lo, vamos usar a função ```boxplot```do Seaborn e, como argumentos dessa função vamos passar um ```x```, onde ```x = coluna que será plotada neste eixo``` e a base de dados ```data = conjunto de dados```.\n",
        "O boxplot apresenta uma caixa no meio onde podemos identificar a mediana (linha no meio da caixa que é o ponto onde metade dos dados estão na direita e a outra metade para a esquerda), os outliers (pontos acima ou abaixo do eixo principal do gráfico que representam valores discrepantes para mais ou para menos), a maior concentração dos dados (caixa principal que representa onde está a mior parte dos dados - primeiro quartil (25%) e terceiro quartil (75%)) e os máximos e mínimos desconsiderando os outliers (linhas laterais à caixa principal).\n",
        "O boxplot é uma importante ferramenta na visualização de dados porque em apenas um gráfico, podemos identificar várias métricas estatísticas."
      ]
    },
    {
      "cell_type": "code",
      "metadata": {
        "id": "R9LHaY0yv29K"
      },
      "source": [
        "sns.boxplot(x=\"g-0\" , data=dados)"
      ],
      "execution_count": null,
      "outputs": []
    },
    {
      "cell_type": "markdown",
      "metadata": {
        "id": "-4kvTdIE3d0W"
      },
      "source": [
        "Podemos também, além de definir apenas os dados que irão no eixo x, definimos os dados para o outro eixo, atribuindo um valor para o parâmetro ```y``` (```y = variável que vai ser plotada neste eixo```).\n",
        "Como podemos perceber, no boxplot que representa o ```tratamento = com_droga``` apresenta muitos outliers e isso gera uma discussão bastante interessante pois, do ponto de vista biológico a investigação desses pontos é importante mas, dependendo da área que estamos trabalhando, esse ponto pode apresentar outras soluções. \n",
        "Dito isso, é importante para um cientista de dados não só entender e manipular a base de dados mas também saber acerca do negócio que estamos tratando."
      ]
    },
    {
      "cell_type": "code",
      "metadata": {
        "id": "h87JI4a_yNa1"
      },
      "source": [
        "plt.figure(figsize=(10,8))\n",
        "sns.boxplot(y=\"g-0\", x=\"tratamento\" , data=dados)"
      ],
      "execution_count": null,
      "outputs": []
    },
    {
      "cell_type": "markdown",
      "metadata": {
        "id": "G0jvy9Hr7qdH"
      },
      "source": [
        "# Desafios"
      ]
    },
    {
      "cell_type": "markdown",
      "metadata": {
        "id": "_ELF0BeF75UA"
      },
      "source": [
        "### Desafio 01 e 02: Ordenar o gráfico countplot e melhorar a visualização alterando tamanho da fonte\n",
        "\n",
        "\n",
        "\n"
      ]
    },
    {
      "cell_type": "code",
      "metadata": {
        "id": "n5Meczki79Yf"
      },
      "source": [
        "sns.set()\n",
        "plt.figure(figsize=(8, 6))\n",
        "\n",
        "ax = sns.countplot(x = 'composto', data=dados.query('composto in @cod_compostos'), order=cod_compostos, edgecolor=sns.color_palette(\"dark\", 5))\n",
        "ax.set_title('Top 5 compostos',fontsize=15, fontweight=\"bold\")\n",
        "ax.set_xlabel(\"Composto\", fontsize=15, fontweight=\"bold\")\n",
        "ax.set_ylabel(\"Frequência\", fontsize=15, fontweight=\"bold\")\n",
        "\n",
        "plt.show()"
      ],
      "execution_count": null,
      "outputs": []
    },
    {
      "cell_type": "markdown",
      "metadata": {
        "id": "LOpnCGeADoPM"
      },
      "source": [
        "### Desafio 03: Plotar os histogramas com seaborn"
      ]
    },
    {
      "cell_type": "code",
      "metadata": {
        "id": "RYB6DkbbEO4x"
      },
      "source": [
        "sns.set()\n",
        "plt.figure(figsize=(10,8))\n",
        "\n",
        "ax = sns.histplot(data=dados[\"g-0\"])\n",
        "ax.set_xlabel(\"Composto g-0\", fontsize=15, fontweight=\"bold\")\n",
        "ax.set_ylabel(\"Frequência\", fontsize=15, fontweight=\"bold\")\n",
        "\n",
        "plt.show()"
      ],
      "execution_count": null,
      "outputs": []
    },
    {
      "cell_type": "code",
      "metadata": {
        "id": "37B2FseuFx_G"
      },
      "source": [
        "sns.set()\n",
        "plt.figure(figsize=(10,8))\n",
        "\n",
        "ax = sns.histplot(data=dados[\"g-19\"])\n",
        "ax.set_xlabel(\"Composto g-19\", fontsize=15, fontweight=\"bold\")\n",
        "ax.set_ylabel(\"Frequência\", fontsize=15, fontweight=\"bold\")\n",
        "\n",
        "plt.show()"
      ],
      "execution_count": null,
      "outputs": []
    },
    {
      "cell_type": "code",
      "metadata": {
        "id": "ualRJ-tCEs5W"
      },
      "source": [
        "sns.set()\n",
        "plt.figure(figsize=(10,8))\n",
        "\n",
        "ax = sns.histplot(data=dados.loc[:,\"g-0\":\"g-771\"].describe().T[\"mean\"])\n",
        "ax.set_title(\"Média apresentadas em cada g\", fontsize=15, fontweight=\"bold\")\n",
        "ax.set_ylabel(\"Frequência de cada valor\", fontsize=15, fontweight=\"bold\")\n",
        "ax.set_xlabel(\"Médias de g-0 até g-771\", fontsize=15, fontweight=\"bold\")\n",
        "\n",
        "plt.show()"
      ],
      "execution_count": null,
      "outputs": []
    },
    {
      "cell_type": "markdown",
      "metadata": {
        "id": "-CxJaf-rHgeR"
      },
      "source": [
        "### Desafio 04: Estudar sobre as estatíticas retornadas no .describe()"
      ]
    },
    {
      "cell_type": "markdown",
      "metadata": {
        "id": "dYVdudlSHgVj"
      },
      "source": [
        "### Desafio 05: Refletir sobre a manipulação do tamanho das visualizações."
      ]
    },
    {
      "cell_type": "markdown",
      "metadata": {
        "id": "UtuOBnBIHsiG"
      },
      "source": [
        "### Desafio 06: Fazer outras análises com o boxplot e até com o histograma."
      ]
    },
    {
      "cell_type": "code",
      "metadata": {
        "id": "xoA2wLA3HuwX"
      },
      "source": [
        "plt.figure(figsize=(18,10))\n",
        "\n",
        "ax = sns.boxplot(data=dados, x=\"tempo\", y=\"g-0\")\n",
        "ax.set_xlabel(\"Tempo\", fontsize=15, fontweight=\"bold\")\n",
        "ax.set_ylabel(\"g-0\", fontsize=15, fontweight=\"bold\")\n",
        "\n",
        "plt.show()"
      ],
      "execution_count": null,
      "outputs": []
    },
    {
      "cell_type": "code",
      "metadata": {
        "id": "gfOV8b__IIwV"
      },
      "source": [
        "plt.figure(figsize=(18,10))\n",
        "\n",
        "ax = sns.boxplot(data=dados, x=\"tratamento\", y=\"g-0\")\n",
        "ax.set_xlabel(\"Tratamento\", fontsize=15, fontweight=\"bold\")\n",
        "ax.set_ylabel(\"g-0\", fontsize=15, fontweight=\"bold\")\n",
        "\n",
        "plt.show()"
      ],
      "execution_count": null,
      "outputs": []
    },
    {
      "cell_type": "markdown",
      "metadata": {
        "id": "YJVhD-WlKcuH"
      },
      "source": [
        "### Desafio 07: Resumo do que você aprendeu com os dados\n"
      ]
    },
    {
      "cell_type": "markdown",
      "metadata": {
        "id": "Q4dBchfkLCgk"
      },
      "source": [
        "*   Aprendi a usar o Seaborn para melhorar os gráficos\n",
        "*   Aprendi o que é histograma e boxplot\n",
        "*   Aprendi novos conceitos de estatística"
      ]
    }
  ]
}